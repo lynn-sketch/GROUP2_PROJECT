{
  "nbformat": 4,
  "nbformat_minor": 0,
  "metadata": {
    "colab": {
      "provenance": []
    },
    "kernelspec": {
      "name": "python3",
      "display_name": "Python 3"
    },
    "language_info": {
      "name": "python"
    }
  },
  "cells": [
    {
      "cell_type": "code",
      "execution_count": 1,
      "metadata": {
        "colab": {
          "base_uri": "https://localhost:8080/"
        },
        "id": "NPPskz97TOMJ",
        "outputId": "4c9611e4-7ca4-46af-8a40-407261f4b0e6"
      },
      "outputs": [
        {
          "output_type": "stream",
          "name": "stdout",
          "text": [
            "Mounted at /content/drive\n",
            "Data has been written to movies3.csv\n"
          ]
        }
      ],
      "source": [
        "import requests\n",
        "from bs4 import BeautifulSoup\n",
        "import pandas as pd\n",
        "from google.colab import drive\n",
        "drive.mount('/content/drive')\n",
        "\n",
        "# List of URLs to scrape\n",
        "urls = [\n",
        "    \"https://watch.plex.tv/movie/the-hitch-hiker-1953\",\n",
        "    \"https://watch.plex.tv/movie/the-bigamist\",\n",
        "    \"https://watch.plex.tv/movie/suburbia\",\n",
        "    \"https://watch.plex.tv/movie/smithereens\",\n",
        "    \"https://watch.plex.tv/movie/the-decline-of-western-civilization\",\n",
        "    \"https://watch.plex.tv/movie/the-attic\",\n",
        "    \"https://watch.plex.tv/movie/the-slumber-party-massacre\",\n",
        "    \"https://watch.plex.tv/movie/francesco\",\n",
        "    \"https://watch.plex.tv/movie/boynton-beach-club\",\n",
        "    \"https://watch.plex.tv/movie/bernice-bobs-her-hair\"\n",
        "]\n",
        "\n",
        "# Lists to hold scraped data\n",
        "movie_names = []\n",
        "imdb_ratings = []\n",
        "genres = []\n",
        "years = []\n",
        "durations = []\n",
        "\n",
        "# Scraping function\n",
        "def scrape_movie_data(url):\n",
        "    response = requests.get(url)\n",
        "    soup = BeautifulSoup(response.text, 'html.parser')\n",
        "\n",
        "    # Scraping movie name\n",
        "    movie_name = soup.find_all(\"h1\", class_=\"ineka90 ineka9j ineka96 ineka9n _1v25wbq1g _1v25wbq1c _1v25wbqlc _1v25wbql9\")\n",
        "    if movie_name:\n",
        "        movie_names.append(movie_name[0].text)\n",
        "\n",
        "    # Scraping year, duration, and genre\n",
        "    details = soup.find_all(\"span\", class_=\"ineka90 ineka9i ineka9b ineka9n _1v25wbq1g _1v25wbq1c _1v25wbqlk\")\n",
        "    if details and len(details) >= 3:\n",
        "        years.append(details[0].text)      # Year\n",
        "        durations.append(details[1].text)   # Duration\n",
        "        genres.append(details[2].text)      # Genre\n",
        "\n",
        "    # Scraping IMDb ratings\n",
        "    imdb_rating = soup.find_all(\"span\", class_=\"ineka90 ineka9j ineka9f ineka9r ineka9n _1v25wbq1g _1v25wbq18 _1v25wbqlk\")\n",
        "    if imdb_rating:\n",
        "        imdb_ratings.append(imdb_rating[0].text)\n",
        "\n",
        "# Loop through all URLs\n",
        "for url in urls:\n",
        "    scrape_movie_data(url)\n",
        "\n",
        "# Create a DataFrame from the lists\n",
        "data = {\n",
        "    \"Movie Name\": movie_names,\n",
        "    \"Year\": years,\n",
        "    \"Duration\": durations,\n",
        "    \"Genre\": genres,\n",
        "    \"IMDb Rating\": imdb_ratings\n",
        "}\n",
        "df = pd.DataFrame(data)\n",
        "\n",
        "# Save DataFrame to CSV\n",
        "df.to_csv('movies3.csv', index=False)\n",
        "print(\"Data has been written to movies3.csv\")\n"
      ]
    }
  ]
}