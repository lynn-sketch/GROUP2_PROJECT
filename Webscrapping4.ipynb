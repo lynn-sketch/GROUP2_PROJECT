{
  "nbformat": 4,
  "nbformat_minor": 0,
  "metadata": {
    "colab": {
      "provenance": []
    },
    "kernelspec": {
      "name": "python3",
      "display_name": "Python 3"
    },
    "language_info": {
      "name": "python"
    }
  },
  "cells": [
    {
      "cell_type": "code",
      "execution_count": 1,
      "metadata": {
        "colab": {
          "base_uri": "https://localhost:8080/"
        },
        "id": "XllNm-1MXgB1",
        "outputId": "4fc15464-b594-4aed-abc7-2999ce642984"
      },
      "outputs": [
        {
          "output_type": "stream",
          "name": "stdout",
          "text": [
            "Mounted at /content/drive\n",
            "Data has been written to movies4.csv\n"
          ]
        }
      ],
      "source": [
        "import requests\n",
        "import csv\n",
        "from bs4 import BeautifulSoup\n",
        "import pandas as pd\n",
        "from google.colab import drive\n",
        "drive.mount('/content/drive')\n",
        "\n",
        "urls = [\n",
        "    \"https://watch.plex.tv/movie/hush-2016\",\n",
        "    \"https://watch.plex.tv/movie/the-gods-must-be-crazy\",\n",
        "    \"https://watch.plex.tv/movie/labyrinth-1986\",\n",
        "    \"https://watch.plex.tv/movie/the-hottie-and-the-nottie\",\n",
        "    \"https://watch.plex.tv/movie/shortbus\",\n",
        "    \"https://watch.plex.tv/movie/barefoot-2014\",\n",
        "    \"https://watch.plex.tv/movie/the-slumber-party-massacre\",\n",
        "    \"https://watch.plex.tv/movie/the-gods-must-be-crazy-ii\",\n",
        "    \"https://watch.plex.tv/movie/wheels-on-meals\",\n",
        "    \"https://watch.plex.tv/movie/the-killer-2022\"\n",
        "]\n",
        "\n",
        "# Lists to hold scraped data\n",
        "movie_names = []\n",
        "imdb_ratings = []\n",
        "genres = []\n",
        "years = []\n",
        "durations = []\n",
        "\n",
        "# Scraping function\n",
        "def scrape_movie_data(url):\n",
        "    response = requests.get(url)\n",
        "    soup = BeautifulSoup(response.text, 'html.parser')\n",
        "\n",
        "    # Scraping movie name\n",
        "    movie_name = soup.find_all(\"h1\", class_=\"ineka90 ineka9j ineka96 ineka9n _1v25wbq1g _1v25wbq1c _1v25wbqlc _1v25wbql9\")\n",
        "    if movie_name:\n",
        "        movie_names.append(movie_name[0].text)\n",
        "\n",
        "    # Scraping year, duration, and genre\n",
        "    details = soup.find_all(\"span\", class_=\"ineka90 ineka9i ineka9b ineka9n _1v25wbq1g _1v25wbq1c _1v25wbqlk\")\n",
        "    if details and len(details) >= 3:\n",
        "        years.append(details[0].text)      # Year\n",
        "        durations.append(details[1].text)   # Duration\n",
        "        genres.append(details[2].text)      # Genre\n",
        "\n",
        "    # Scraping IMDb ratings\n",
        "    imdb_rating = soup.find_all(\"span\", class_=\"ineka90 ineka9j ineka9f ineka9r ineka9n _1v25wbq1g _1v25wbq18 _1v25wbqlk\")\n",
        "    if imdb_rating:\n",
        "        imdb_ratings.append(imdb_rating[0].text)\n",
        "\n",
        "# Loop through all URLs\n",
        "for url in urls:\n",
        "    scrape_movie_data(url)\n",
        "\n",
        "# Create a DataFrame from the scraped data\n",
        "data = {\n",
        "    \"movie Name\": movie_names,\n",
        "    \"year\": years,\n",
        "    \"duration\": durations,\n",
        "    \"genre\": genres,\n",
        "    \"imdb_rating\": imdb_ratings\n",
        "}\n",
        "\n",
        "df = pd.DataFrame(data)\n",
        "\n",
        "# Write the results to a CSV file\n",
        "df.to_csv('movies4.csv', index=False, encoding='utf-8')\n",
        "\n",
        "print(\"Data has been written to movies4.csv\")"
      ]
    }
  ]
}