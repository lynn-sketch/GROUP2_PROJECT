{
  "nbformat": 4,
  "nbformat_minor": 0,
  "metadata": {
    "colab": {
      "provenance": []
    },
    "kernelspec": {
      "name": "python3",
      "display_name": "Python 3"
    },
    "language_info": {
      "name": "python"
    }
  },
  "cells": [
    {
      "cell_type": "code",
      "source": [
        "import requests\n",
        "from bs4 import BeautifulSoup\n",
        "import csv\n",
        "import pandas as pd\n",
        "from google.colab import drive\n",
        "drive.mount('/content/drive')\n",
        "\n",
        "# List of URLs to scrape\n",
        "urls = [\n",
        "    \"https://watch.plex.tv/show/the-transporter-2022\",\n",
        "    \"https://watch.plex.tv/show/drew-careys-improv-a-ganza\",\n",
        "    \"https://watch.plex.tv/show/adam-rays-dr-phil-live\",\n",
        "    \"https://watch.plex.tv/show/a-cooks-tour-1\",\n",
        "    \"https://watch.plex.tv/show/drone-wars-1\",\n",
        "    \"https://watch.plex.tv/show/infieles-1\",\n",
        "    \"https://watch.plex.tv/show/conan-the-adventurer-1997\",\n",
        "    \"https://watch.plex.tv/show/gata-salvaje\",\n",
        "    \"https://watch.plex.tv/show/silk-stalkings\",\n",
        "    \"https://watch.plex.tv/show/underdeveloped\"\n",
        "]\n",
        "\n",
        "# Lists to hold scraped data\n",
        "movie_names = []\n",
        "imdb_ratings = []\n",
        "genres = []\n",
        "years = []\n",
        "durations = []\n",
        "\n",
        "# Scraping function\n",
        "def scrape_movie_data(url):\n",
        "    response = requests.get(url)\n",
        "    soup = BeautifulSoup(response.content, 'html.parser')\n",
        "\n",
        "    # Scraping movie name\n",
        "    movie_name = soup.find(\"h1\",class_=\"ineka90 ineka9j ineka96 ineka9n _1v25wbq1g _1v25wbq1c _1v25wbqlc _1v25wbql9\" )\n",
        "    if movie_name:\n",
        "        movie_names.append(movie_name.text)\n",
        "\n",
        "    # Scraping details\n",
        "    details = soup.find_all(\"span\",class_=\"ineka90 ineka9i ineka9b ineka9n _1v25wbq1g _1v25wbq1c _1v25wbqlk\")\n",
        "    if details:\n",
        "        if len(details) >= 3:\n",
        "            years.append(details[0].text)      # Year\n",
        "            durations.append(details[1].text)   # Duration\n",
        "            genres.append(details[2].text)      # Genre\n",
        "\n",
        "    # Scraping IMDb ratings\n",
        "    imdb_rating = soup.find_all(\"span\", class_=\"ineka90 ineka9j ineka9f ineka9r ineka9n _1v25wbq1g _1v25wbq18 _1v25wbqlk\")\n",
        "    if imdb_rating:\n",
        "        imdb_ratings.append(imdb_rating[0].text)\n",
        "\n",
        "# Loop through all URLs\n",
        "for url in urls:\n",
        "    scrape_movie_data(url)\n",
        "\n",
        "# Create a DataFrame from the scraped data\n",
        "data = {\n",
        "    \"movie Name\": movie_names,\n",
        "    \"year\": years,\n",
        "    \"duration\": durations,\n",
        "    \"genre\": genres,\n",
        "    \"imdb_rating\": imdb_ratings\n",
        "}\n",
        "\n",
        "df = pd.DataFrame(data)\n",
        "\n",
        "# Write the results to a CSV file\n",
        "df.to_csv('movies2.csv', index=False, encoding='utf-8')\n",
        "\n",
        "print(\"Data has been written to movies2.csv\")"
      ],
      "metadata": {
        "colab": {
          "base_uri": "https://localhost:8080/"
        },
        "id": "nAAIP9DzRRUw",
        "outputId": "ba78da72-f89d-4d53-d1d6-54ca6b10f0d2"
      },
      "execution_count": 7,
      "outputs": [
        {
          "output_type": "stream",
          "name": "stdout",
          "text": [
            "Mounted at /content/drive\n",
            "Data has been written to movies2.csv\n"
          ]
        }
      ]
    }
  ]
}