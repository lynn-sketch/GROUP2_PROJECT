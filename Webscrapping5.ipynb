{
  "nbformat": 4,
  "nbformat_minor": 0,
  "metadata": {
    "colab": {
      "provenance": []
    },
    "kernelspec": {
      "name": "python3",
      "display_name": "Python 3"
    },
    "language_info": {
      "name": "python"
    }
  },
  "cells": [
    {
      "cell_type": "code",
      "execution_count": 1,
      "metadata": {
        "colab": {
          "base_uri": "https://localhost:8080/"
        },
        "id": "nZltbJQKc__z",
        "outputId": "ae20d642-7714-4324-dc99-078b94013d1f"
      },
      "outputs": [
        {
          "output_type": "stream",
          "name": "stdout",
          "text": [
            "Mounted at /content/drive\n",
            "Data has been written to movies5.csv\n"
          ]
        }
      ],
      "source": [
        "import requests\n",
        "from bs4 import BeautifulSoup\n",
        "import csv\n",
        "import pandas as pd\n",
        "from google.colab import drive\n",
        "drive.mount('/content/drive')\n",
        "\n",
        "\n",
        "# List of URLs to scrape\n",
        "urls = [\n",
        "    \"https://watch.plex.tv/show/one-big-recipe\",\n",
        "    \"https://watch.plex.tv/show/spencers-big-30\",\n",
        "    \"https://watch.plex.tv/show/bonacinis-italy\",\n",
        "    \"https://watch.plex.tv/show/a-is-for-apple\",\n",
        "    \"https://watch.plex.tv/show/lets-brunch\",\n",
        "    \"https://watch.plex.tv/show/pressures-on\",\n",
        "    \"https://watch.plex.tv/show/the-latin-kitchen\",\n",
        "    \"https://watch.plex.tv/show/road-grill\",\n",
        "    \"https://watch.plex.tv/show/riptide-1984?detailsSource=vod&context.page=home&context.groupID=hub.movies.crime-time&context.groupIndex=6&context.itemIndex=18\",\n",
        "    \"https://watch.plex.tv/movie/the-dark-crystal?detailsSource=vod&context.page=home&context.groupID=hub.movies.quests-sagas-and-dragons&context.groupIndex=7&context.itemIndex=1\"\n",
        "]\n",
        "\n",
        "# Lists to hold scraped data\n",
        "movie_names = []\n",
        "imdb_ratings = []\n",
        "genres = []\n",
        "years = []\n",
        "durations = []\n",
        "\n",
        "# Scraping function\n",
        "def scrape_movie_data(url):\n",
        "    response = requests.get(url)\n",
        "    soup = BeautifulSoup(response.text, 'html.parser')\n",
        "\n",
        "    # Scraping movie name\n",
        "    movie_name = soup.find_all(\"h1\", class_=\"ineka90 ineka9j ineka96 ineka9n _1v25wbq1g _1v25wbq1c _1v25wbqlc _1v25wbql9\")\n",
        "    if movie_name:\n",
        "        movie_names.append(movie_name[0].text)\n",
        "    else:\n",
        "        movie_names.append(None)\n",
        "\n",
        "    # Scraping year, duration, and genre\n",
        "    details = soup.find_all(\"span\", class_=\"ineka90 ineka9i ineka9b ineka9n _1v25wbq1g _1v25wbq1c _1v25wbqlk\")\n",
        "    if details and len(details) >= 3:\n",
        "        years.append(details[0].text)      # Year\n",
        "        durations.append(details[1].text)   # Duration\n",
        "        genres.append(details[2].text)      # Genre\n",
        "    else:\n",
        "        years.append(None)\n",
        "        durations.append(None)\n",
        "        genres.append(None)\n",
        "\n",
        "    # Scraping IMDb ratings\n",
        "    imdb_rating = soup.find_all(\"span\", class_=\"ineka90 ineka9j ineka9f ineka9r ineka9n _1v25wbq1g _1v25wbq18 _1v25wbqlk\")\n",
        "    if imdb_rating:\n",
        "        imdb_ratings.append(imdb_rating[0].text)\n",
        "    else:\n",
        "        imdb_ratings.append(None)\n",
        "\n",
        "# Loop through all URLs\n",
        "for url in urls:\n",
        "    scrape_movie_data(url)\n",
        "\n",
        "# Write the results to a CSV file\n",
        "# Create a DataFrame from the scraped data\n",
        "data = {\n",
        "    \"movie Name\": movie_names,\n",
        "    \"year\": years,\n",
        "    \"duration\": durations,\n",
        "    \"genre\": genres,\n",
        "    \"imdb_rating\": imdb_ratings\n",
        "}\n",
        "\n",
        "df = pd.DataFrame(data)\n",
        "\n",
        "# Write the results to a CSV file\n",
        "df.to_csv('movies5.csv', index=False, encoding='utf-8')\n",
        "\n",
        "print(\"Data has been written to movies5.csv\")"
      ]
    },
    {
      "cell_type": "code",
      "source": [
        "import os\n",
        "print(\"Current Working Directory:\", os.getcwd())"
      ],
      "metadata": {
        "colab": {
          "base_uri": "https://localhost:8080/"
        },
        "id": "Z1qMzYFegEL0",
        "outputId": "08d4caaf-7bf1-41bd-a28b-6716a96990a0"
      },
      "execution_count": null,
      "outputs": [
        {
          "output_type": "stream",
          "name": "stdout",
          "text": [
            "Current Working Directory: /content\n"
          ]
        }
      ]
    }
  ]
}