{
  "nbformat": 4,
  "nbformat_minor": 0,
  "metadata": {
    "colab": {
      "provenance": []
    },
    "kernelspec": {
      "name": "python3",
      "display_name": "Python 3"
    },
    "language_info": {
      "name": "python"
    }
  },
  "cells": [
    {
      "cell_type": "code",
      "execution_count": null,
      "metadata": {
        "colab": {
          "base_uri": "https://localhost:8080/"
        },
        "id": "I_QVQVJu6cCL",
        "outputId": "8395c8e4-0641-4ab0-a408-def621e96607"
      },
      "outputs": [
        {
          "output_type": "stream",
          "name": "stdout",
          "text": [
            "Mounted at /content/drive\n",
            "Data has been written to movies9.csv\n"
          ]
        }
      ],
      "source": [
        "\n",
        "import requests\n",
        "from bs4 import BeautifulSoup\n",
        "import csv\n",
        "import pandas as pd\n",
        "from google.colab import drive\n",
        "drive.mount('/content/drive')\n",
        "\n",
        "# List of URLs to scrape\n",
        "urls = [\n",
        " \"https://watch.plex.tv/movie/the-man-from-earth\",\n",
        " \"https://watch.plex.tv/movie/metropolis\",\n",
        " \"https://watch.plex.tv/movie/the-last-man-on-earth\",\n",
        " \"https://watch.plex.tv/movie/a-boy-and-his-dog-1975\",\n",
        " \"https://watch.plex.tv/movie/the-man-from-earth-holocene\",\n",
        " \"https://watch.plex.tv/movie/the-day-of-the-triffids-1963\",\n",
        " \"https://watch.plex.tv/movie/20-million-miles-to-earth\",\n",
        " \"https://watch.plex.tv/movie/the-brother-from-another-planet\",\n",
        " \"https://watch.plex.tv/movie/willard\",\n",
        " \"https://watch.plex.tv/movie/the-killer-shrews\"\n",
        "]\n",
        "\n",
        "# Lists to hold scraped data\n",
        "movie_names = []\n",
        "imdb_ratings = []\n",
        "genres = []\n",
        "years = []\n",
        "durations = []\n",
        "\n",
        "# Scraping function\n",
        "def scrape_movie_data(url):\n",
        "    response = requests.get(url)\n",
        "    soup = BeautifulSoup(response.content, 'html.parser')\n",
        "\n",
        "    # Scraping movie name\n",
        "    movie_name = soup.find(\"h1\",class_=\"ineka90 ineka9j ineka96 ineka9n _1v25wbq1g _1v25wbq1c _1v25wbqlc _1v25wbql9\" )\n",
        "    if movie_name:\n",
        "        movie_names.append(movie_name.text)\n",
        "\n",
        "    # Scraping details\n",
        "    details = soup.find_all(\"span\",class_=\"ineka90 ineka9i ineka9b ineka9n _1v25wbq1g _1v25wbq1c _1v25wbqlk\")\n",
        "    if details:\n",
        "        if len(details) >= 3:\n",
        "            years.append(details[0].text)      # Year\n",
        "            durations.append(details[1].text)   # Duration\n",
        "            genres.append(details[2].text)      # Genre\n",
        "\n",
        "    # Scraping IMDb ratings\n",
        "    imdb_rating = soup.find_all(\"span\", class_=\"ineka90 ineka9j ineka9f ineka9r ineka9n _1v25wbq1g _1v25wbq18 _1v25wbqlk\")\n",
        "    if imdb_rating:\n",
        "        imdb_ratings.append(imdb_rating[0].text)\n",
        "\n",
        "# Loop through all URLs\n",
        "for url in urls:\n",
        "    scrape_movie_data(url)\n",
        "\n",
        "# Create a DataFrame from the scraped data\n",
        "data = {\n",
        "    \"movie Name\": movie_names,\n",
        "    \"year\": years,\n",
        "    \"duration\": durations,\n",
        "    \"genre\": genres,\n",
        "    \"imdb_rating\": imdb_ratings\n",
        "}\n",
        "\n",
        "df = pd.DataFrame(data)\n",
        "\n",
        "# Write the results to a CSV file\n",
        "df.to_csv('movies9.csv', index=False, encoding='utf-8')\n",
        "\n",
        "print(\"Data has been written to movies9.csv\")"
      ]
    }
  ]
}