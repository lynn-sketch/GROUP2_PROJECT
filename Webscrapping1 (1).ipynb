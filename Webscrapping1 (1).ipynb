{
  "cells": [
    {
      "cell_type": "code",
      "execution_count": 5,
      "metadata": {
        "colab": {
          "base_uri": "https://localhost:8080/"
        },
        "id": "nAAIP9DzRRUw",
        "outputId": "bb8413b9-e08f-419f-b29c-c2cea41d3431"
      },
      "outputs": [
        {
          "name": "stdout",
          "output_type": "stream",
          "text": [
            "Data has been written to movies1.csv\n"
          ]
        }
      ],
      "source": [
        "import requests\n",
        "from bs4 import BeautifulSoup\n",
        "import csv\n",
        "import pandas as pd\n",
        "\n",
        "# List of URLs to scrape\n",
        "urls = [\"https://watch.plex.tv/show/tasokare-hotel-1\",\n",
        "        \"https://watch.plex.tv/show/ghost-show\",\n",
        "        \"https://watch.plex.tv/show/tarzan-the-epic-adventures\",\n",
        "        \"https://watch.plex.tv/show/zatoichi-the-blind-swordsman\",\n",
        "        \"https://watch.plex.tv/show/hunter-1\",\n",
        "        \"https://watch.plex.tv/show/top-million-dollar-agent\",\n",
        "        \"https://watch.plex.tv/show/wiseguy\",\n",
        "        \"https://watch.plex.tv/show/pee-wees-playhouse\",\n",
        "        \"https://watch.plex.tv/show/burb-patrol\",\n",
        "        \"https://watch.plex.tv/show/farscape\",\n",
        "    \n",
        "]\n",
        "\n",
        "# Lists to hold scraped data\n",
        "movie_names = []\n",
        "imdb_ratings = []\n",
        "genres = []\n",
        "years = []\n",
        "durations = []\n",
        "\n",
        "# Scraping function\n",
        "def scrape_movie_data(url):\n",
        "    response = requests.get(url)\n",
        "    soup = BeautifulSoup(response.content, 'html.parser')\n",
        "\n",
        "    # Scraping movie name\n",
        "    movie_name = soup.find(\"h1\",class_=\"ineka90 ineka9j ineka96 ineka9n _1v25wbq1g _1v25wbq1c _1v25wbqlc _1v25wbql9\" )\n",
        "    if movie_name:\n",
        "        movie_names.append(movie_name.text)\n",
        "\n",
        "    # Scraping details\n",
        "    details = soup.find_all(\"span\",class_=\"ineka90 ineka9i ineka9b ineka9n _1v25wbq1g _1v25wbq1c _1v25wbqlk\")\n",
        "    if details:\n",
        "        if len(details) >= 3:\n",
        "            years.append(details[0].text)      # Year\n",
        "            durations.append(details[1].text)   # Duration\n",
        "            genres.append(details[2].text)      # Genre\n",
        "\n",
        "    # Scraping IMDb ratings\n",
        "    imdb_rating = soup.find_all(\"span\", class_=\"ineka90 ineka9j ineka9f ineka9r ineka9n _1v25wbq1g _1v25wbq18 _1v25wbqlk\")\n",
        "    if imdb_rating:\n",
        "        imdb_ratings.append(imdb_rating[0].text)\n",
        "\n",
        "# Loop through all URLs\n",
        "for url in urls:\n",
        "    scrape_movie_data(url)\n",
        "\n",
        "# Create a DataFrame from the scraped data\n",
        "data = {\n",
        "    \"movie Name\": movie_names,\n",
        "    \"year\": years,\n",
        "    \"duration\": durations,\n",
        "    \"genre\": genres,\n",
        "    \"imdb_rating\": imdb_ratings\n",
        "}\n",
        "\n",
        "df = pd.DataFrame(data)\n",
        "\n",
        "# Write the results to a CSV file\n",
        "df.to_csv('movies1.csv', index=False)\n",
        "\n",
        "print(\"Data has been written to movies1.csv\")\n"
      ]
    },
    {
      "cell_type": "code",
      "execution_count": 4,
      "metadata": {},
      "outputs": [
        {
          "ename": "NameError",
          "evalue": "name 'movies1' is not defined",
          "output_type": "error",
          "traceback": [
            "\u001b[1;31m---------------------------------------------------------------------------\u001b[0m",
            "\u001b[1;31mNameError\u001b[0m                                 Traceback (most recent call last)",
            "Cell \u001b[1;32mIn[4], line 1\u001b[0m\n\u001b[1;32m----> 1\u001b[0m \u001b[43mmovies1\u001b[49m\u001b[38;5;241m.\u001b[39mcsv\n",
            "\u001b[1;31mNameError\u001b[0m: name 'movies1' is not defined"
          ]
        }
      ],
      "source": [
        "movies1.csv"
      ]
    }
  ],
  "metadata": {
    "colab": {
      "provenance": []
    },
    "kernelspec": {
      "display_name": "Python 3",
      "name": "python3"
    },
    "language_info": {
      "codemirror_mode": {
        "name": "ipython",
        "version": 3
      },
      "file_extension": ".py",
      "mimetype": "text/x-python",
      "name": "python",
      "nbconvert_exporter": "python",
      "pygments_lexer": "ipython3",
      "version": "3.12.3"
    }
  },
  "nbformat": 4,
  "nbformat_minor": 0
}
